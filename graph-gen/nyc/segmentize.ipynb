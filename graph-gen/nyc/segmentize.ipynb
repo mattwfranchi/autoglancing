{
 "cells": [
  {
   "cell_type": "markdown",
   "metadata": {},
   "source": [
    "## Claustrophobic Streets\n",
    "Work by Matt Franchi\n",
    "\n",
    "\n",
    "### Notebook Description: \n",
    "In this notebook, we segmentize the official NYC sidewalk shapefile into individual points, at a threshold of 50 feet. This allows us to approximate street metrics with more granularity than otherwise, where sidewalks are grouped together by street segment. \n",
    "\n",
    "### Performance Notes: \n",
    "We run this notebook on a compute node with 64GB RAM and 8 CPUs. \n",
    "\n",
    "\n"
   ]
  },
  {
   "cell_type": "code",
   "execution_count": null,
   "metadata": {},
   "outputs": [],
   "source": [
    "import geopandas as gpd \n",
    "import matplotlib.pyplot as plt \n",
    "\n",
    "# use latex plotting \n",
    "plt.rc('text', usetex=True)\n",
    "plt.rc('font', family='serif')"
   ]
  },
  {
   "cell_type": "code",
   "execution_count": null,
   "metadata": {},
   "outputs": [],
   "source": [
    "# plot a zoom in of a neighborhood \n",
    "# load nyc ntas \n",
    "nyc_ntas = gpd.read_file(\"../data/nynta2020_24b/nynta2020.shp\")\n",
    "nyc_ntas.crs = \"EPSG:2263\"\n",
    "NOI = 'Greenpoint'\n",
    "\n",
    "USE_SIDEWALK_WIDTHS = True "
   ]
  },
  {
   "cell_type": "code",
   "execution_count": null,
   "metadata": {},
   "outputs": [],
   "source": [
    "if not USE_SIDEWALK_WIDTHS:\n",
    "    nyc_streets = gpd.read_file('../data/Sidewalk.geojson').to_crs(\"EPSG:2263\")\n",
    "else: \n",
    "    nyc_streets = gpd.read_file(\"../data/sidewalkwidths_nyc.geojson\")"
   ]
  },
  {
   "cell_type": "code",
   "execution_count": null,
   "metadata": {},
   "outputs": [],
   "source": [
    "nyc_streets.describe()"
   ]
  },
  {
   "cell_type": "code",
   "execution_count": null,
   "metadata": {},
   "outputs": [],
   "source": [
    "# crop nyc_streets to the neighborhood of interest\n",
    "nyc_streets_crop = gpd.sjoin(nyc_streets, nyc_ntas[nyc_ntas.NTAName == NOI], op='within')"
   ]
  },
  {
   "cell_type": "code",
   "execution_count": null,
   "metadata": {},
   "outputs": [],
   "source": [
    "# simplify the cropped geometry \n",
    "nyc_streets_crop_simplified = nyc_streets_crop.simplify(10)"
   ]
  },
  {
   "cell_type": "code",
   "execution_count": null,
   "metadata": {},
   "outputs": [],
   "source": [
    "fig, ax = plt.subplots(figsize=(20,20))\n",
    "\n",
    "#nyc_streets_crop.plot(ax=ax, color='black', linewidth=0.5)\n",
    "nyc_streets_crop.segmentize(10).plot(ax=ax, cmap='tab20', linewidth=0.5)\n",
    "#nyc_streets_crop_simplified.plot(ax=ax, color='red', linewidth=0.5)\n",
    "\n",
    "ax.set_axis_off() \n",
    "\n",
    "ax.set_title(\"Greenpoint, Brooklyn Sidewalk GeoJSON\", fontsize=48)\n",
    "\n",
    "plt.savefig(\"../figures/greenpoint_sidewalks.png\", dpi=300, bbox_inches='tight')\n"
   ]
  },
  {
   "cell_type": "code",
   "execution_count": null,
   "metadata": {},
   "outputs": [],
   "source": [
    "# AT THIS POINT, assume simplification is satisfactory \n",
    "# apply to nyc_streets \n",
    "if not USE_SIDEWALK_WIDTHS:\n",
    "    nyc_streets['geometry'] = nyc_streets.simplify(10)"
   ]
  },
  {
   "cell_type": "code",
   "execution_count": null,
   "metadata": {},
   "outputs": [],
   "source": [
    "nyc_streets "
   ]
  },
  {
   "cell_type": "code",
   "execution_count": null,
   "metadata": {},
   "outputs": [],
   "source": [
    "segmentized = nyc_streets.segmentize(50).extract_unique_points().explode(index_parts=True)"
   ]
  },
  {
   "cell_type": "code",
   "execution_count": null,
   "metadata": {},
   "outputs": [],
   "source": [
    "# merge rest of data with segmentized \n",
    "segmentized = gpd.GeoDataFrame(segmentized).reset_index()"
   ]
  },
  {
   "cell_type": "code",
   "execution_count": null,
   "metadata": {},
   "outputs": [],
   "source": [
    "segmentized.info()"
   ]
  },
  {
   "cell_type": "code",
   "execution_count": null,
   "metadata": {},
   "outputs": [],
   "source": [
    "segmentized = segmentized.merge(nyc_streets,left_on='level_0',right_index=True).drop(columns=['level_0','level_1','geometry'])\n",
    "segmentized['geometry'] = segmentized.iloc[:,0]\n",
    "segmentized.drop(segmentized.columns[0],axis=1, inplace=True)"
   ]
  },
  {
   "cell_type": "code",
   "execution_count": null,
   "metadata": {},
   "outputs": [],
   "source": [
    "segmentized = gpd.GeoDataFrame(segmentized).to_crs('EPSG:2263')"
   ]
  },
  {
   "cell_type": "code",
   "execution_count": null,
   "metadata": {},
   "outputs": [],
   "source": [
    "# crop segmentized to 'Greenpoint' NTA \n",
    "nta_crop = nyc_ntas[nyc_ntas['NTAName']==NOI]\n",
    "segmentized_crop = gpd.clip(segmentized,nta_crop)"
   ]
  },
  {
   "cell_type": "code",
   "execution_count": null,
   "metadata": {},
   "outputs": [],
   "source": [
    "# visualize the crop \n",
    "fig, ax = plt.subplots(figsize=(20,20))\n",
    "\n",
    "nta_crop.plot(ax=ax, color='white', edgecolor='black')\n",
    "segmentized_crop.plot(ax=ax, color='red', markersize=1)\n",
    "\n",
    "ax.set_axis_off()\n",
    "\n",
    "ax.set_title(r\"Greenpoint, Brooklyn Sidewalk,\" + \"\\n\" + \"Simplified and Segmentized\", fontsize=48)\n",
    "\n",
    "plt.savefig(\"../figures/greenpoint_sidewalks_segmentized.png\", dpi=300, bbox_inches='tight')"
   ]
  },
  {
   "cell_type": "code",
   "execution_count": null,
   "metadata": {},
   "outputs": [],
   "source": [
    "# side by side plot \n",
    "fig, ax = plt.subplots(1,2,figsize=(20,10))\n",
    "\n",
    "nta_crop.plot(ax=ax[0], color='white', edgecolor='black')\n",
    "nyc_streets_crop.plot(ax=ax[0], color='black', linewidth=0.5)\n",
    "nyc_streets_crop_simplified.plot(ax=ax[0], color='red', linewidth=0.5)\n",
    "\n",
    "nta_crop.plot(ax=ax[1], color='white', edgecolor='black')\n",
    "segmentized_crop.plot(ax=ax[1], color='red', markersize=1)\n",
    "\n",
    "for a in ax:\n",
    "    a.set_axis_off()\n",
    "\n",
    "# label \n",
    "ax[0].set_title('Sidewalk Data')\n",
    "ax[1].set_title('Segmentized Data')\n",
    "\n",
    "# superior title \n",
    "fig.suptitle(NOI, fontsize=16)\n",
    "\n",
    "\n",
    "plt.savefig('../figures/sidewalk_segmentization.png', bbox_inches='tight', dpi=300)"
   ]
  },
  {
   "cell_type": "code",
   "execution_count": null,
   "metadata": {},
   "outputs": [],
   "source": [
    "segmentized.to_csv(\"../data/segmentized_nyc_sidewalks.csv\")"
   ]
  },
  {
   "cell_type": "code",
   "execution_count": null,
   "metadata": {},
   "outputs": [],
   "source": [
    "segmentized"
   ]
  },
  {
   "cell_type": "code",
   "execution_count": null,
   "metadata": {},
   "outputs": [],
   "source": []
  }
 ],
 "metadata": {
  "kernelspec": {
   "display_name": "Python 3",
   "language": "python",
   "name": "python3"
  },
  "language_info": {
   "codemirror_mode": {
    "name": "ipython",
    "version": 3
   },
   "file_extension": ".py",
   "mimetype": "text/x-python",
   "name": "python",
   "nbconvert_exporter": "python",
   "pygments_lexer": "ipython3",
   "version": "3.11.9"
  }
 },
 "nbformat": 4,
 "nbformat_minor": 2
}
